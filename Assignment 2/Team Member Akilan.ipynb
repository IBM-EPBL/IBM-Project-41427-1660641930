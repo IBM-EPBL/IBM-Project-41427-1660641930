{
  "cells": [
    {
      "cell_type": "markdown",
      "source": [
        "Build a python code, Assume u get temperature and humidity values (generated with random function to a variable) and write a condition to continuously detect alarm in case of high temperature.\n"
      ],
      "metadata": {
        "id": "6aeI094YKx9t"
      }
    },
    {
      "cell_type": "code",
      "source": [
        "from random import randrange\n",
        "from time import sleep\n",
        "\n",
        "threshold=35\n",
        "\n",
        "print('Checking Temperature And Humidity')\n",
        "while True:\n",
        "    temperature=randrange(10,50,1)\n",
        "    humidity=randrange(10,90,1)\n",
        "    print(\"Temperature :\",temperature,\"°C , Humidity :\",humidity,\"%\")\n",
        "    if temperature>threshold and humidity<threshold:\n",
        "        break\n",
        "    sleep(1)\n",
        "\n",
        "print(\"Warning!!! Temperature Is High And Humidity Is Low!\")"
      ],
      "metadata": {
        "colab": {
          "base_uri": "https://localhost:8080/"
        },
        "id": "-DVVG2V4LUbc",
        "outputId": "38ce0620-dcdb-416b-df73-17bb5a5cd2d3"
      },
      "execution_count": 3,
      "outputs": [
        {
          "output_type": "stream",
          "name": "stdout",
          "text": [
            "Checking Temperature And Humidity\n",
            "Temperature : 49 °C , Humidity : 60 %\n",
            "Temperature : 36 °C , Humidity : 23 %\n",
            "Warning!!! Temperature Is High And Humidity Is Low!\n"
          ]
        }
      ]
    }
  ],
  "metadata": {
    "colab": {
      "provenance": []
    },
    "kernelspec": {
      "display_name": "Python 3",
      "name": "python3"
    },
    "language_info": {
      "name": "python"
    }
  },
  "nbformat": 4,
  "nbformat_minor": 0
}